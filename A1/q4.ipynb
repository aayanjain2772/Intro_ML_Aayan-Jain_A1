{
 "cells": [
  {
   "cell_type": "markdown",
   "metadata": {},
   "source": [
    "#  Multiclass Logistic Regression on the Iris Dataset\n"
   ]
  },
  {
   "cell_type": "markdown",
   "metadata": {},
   "source": [
    "## 1. Import Libraries"
   ]
  },
  {
   "cell_type": "code",
   "execution_count": 1,
   "metadata": {},
   "outputs": [],
   "source": [
    "import numpy as np\n",
    "import matplotlib.pyplot as plt\n",
    "from sklearn.datasets import load_iris\n",
    "from sklearn.model_selection import train_test_split\n",
    "from sklearn.metrics import classification_report, confusion_matrix, accuracy_score\n",
    "import seaborn as sns\n",
    "import pandas as pd\n"
   ]
  },
  {
   "cell_type": "markdown",
   "metadata": {},
   "source": [
    "## a) Load the Iris Dataset"
   ]
  },
  {
   "cell_type": "code",
   "execution_count": 2,
   "metadata": {},
   "outputs": [
    {
     "name": "stdout",
     "output_type": "stream",
     "text": [
      "Features shape: (150, 4)\n",
      "Labels shape: (150,)\n",
      "Unique classes: [0 1 2]\n"
     ]
    }
   ],
   "source": [
    "iris = load_iris()\n",
    "X = iris.data    # (150, 4)\n",
    "y = iris.target  # (150,)\n",
    "\n",
    "print(\"Features shape:\", X.shape)\n",
    "print(\"Labels shape:\", y.shape)\n",
    "print(\"Unique classes:\", np.unique(y))"
   ]
  },
  {
   "cell_type": "markdown",
   "metadata": {},
   "source": [
    "## b) Preprocess the Data"
   ]
  },
  {
   "cell_type": "code",
   "execution_count": 3,
   "metadata": {},
   "outputs": [],
   "source": [
    "# Split the dataset (60% training, 40% testing)\n",
    "X_train, X_test, y_train, y_test = train_test_split(\n",
    "    X, y, test_size=0.4, random_state=42, stratify=y\n",
    ")\n",
    "\n",
    "def normalize(X):\n",
    "    \"\"\"Min-Max Normalization to [0,1]\"\"\"\n",
    "    return (X - X.min(axis=0)) / (X.max(axis=0) - X.min(axis=0))\n",
    "\n",
    "def standardize(X):\n",
    "    \"\"\"Z-score Standardization\"\"\"\n",
    "    return (X - X.mean(axis=0)) / X.std(axis=0)\n",
    "\n",
    "# Preprocess data\n",
    "X_train_norm = normalize(X_train)\n",
    "X_test_norm  = normalize(X_test)\n",
    "\n",
    "X_train_std = standardize(X_train)\n",
    "X_test_std  = standardize(X_test)"
   ]
  },
  {
   "cell_type": "markdown",
   "metadata": {},
   "source": [
    "## c) Implement Softmx Functions\n"
   ]
  },
  {
   "cell_type": "code",
   "execution_count": 4,
   "metadata": {},
   "outputs": [],
   "source": [
    "def softmax(z):\n",
    "    \"\"\"\n",
    "    Compute the softmax of each row of the input z.\n",
    "    \"\"\"\n",
    "    exp_z = np.exp(z - np.max(z, axis=1, keepdims=True))\n",
    "    return exp_z / np.sum(exp_z, axis=1, keepdims=True)\n",
    "\n",
    "def one_hot_encode(y, num_classes):\n",
    "    \"\"\"\n",
    "    Convert label vector y to one-hot encoded matrix.\n",
    "    \"\"\"\n",
    "    m = y.shape[0]\n",
    "    y_encoded = np.zeros((m, num_classes))\n",
    "    y_encoded[np.arange(m), y] = 1\n",
    "    return y_encoded\n",
    "\n",
    "def compute_loss(y_true, y_pred):\n",
    "    \"\"\"\n",
    "    Compute the categorical cross-entropy loss.\n",
    "    \"\"\"\n",
    "    m = y_true.shape[0]\n",
    "    loss = -np.sum(y_true * np.log(y_pred + 1e-15)) / m\n",
    "    return loss"
   ]
  },
  {
   "cell_type": "markdown",
   "metadata": {},
   "source": [
    "## d) Implement the Multiclass Logistic Regression Model\n",
    "# \n",
    " We create a class `LogisticRegressionMulti` that implements:\n",
    "# \n",
    "- **Batch Gradient Descent (GD):** The weight update is performed using all samples.\n",
    "- **Stochastic Gradient Descent (SGD):** The weight update is performed on one sample at a time.\n",
    "# \n",
    "Both methods track the training loss at every epoch."
   ]
  },
  {
   "cell_type": "code",
   "execution_count": 5,
   "metadata": {},
   "outputs": [],
   "source": [
    "class LogisticRegressionMulti:\n",
    "    def __init__(self, learning_rate=0.01, epochs=1000, verbose=False):\n",
    "        self.learning_rate = learning_rate\n",
    "        self.epochs = epochs\n",
    "        self.verbose = verbose\n",
    "    \n",
    "    def fit_gd(self, X, y):\n",
    "        \"\"\"\n",
    "        Train using Batch Gradient Descent.\n",
    "        \"\"\"\n",
    "        m, n = X.shape\n",
    "        num_classes = len(np.unique(y))\n",
    "        self.W = np.zeros((n, num_classes))\n",
    "        y_encoded = one_hot_encode(y, num_classes)\n",
    "        self.loss_history = []\n",
    "        \n",
    "        for epoch in range(self.epochs):\n",
    "            logits = np.dot(X, self.W)\n",
    "            probs = softmax(logits)\n",
    "            loss = compute_loss(y_encoded, probs)\n",
    "            self.loss_history.append(loss)\n",
    "            \n",
    "            # Gradient calculation\n",
    "            grad = np.dot(X.T, (probs - y_encoded)) / m\n",
    "            self.W -= self.learning_rate * grad\n",
    "            \n",
    "            if self.verbose and epoch % 100 == 0:\n",
    "                print(f\"[GD] Epoch {epoch}/{self.epochs} - Loss: {loss:.4f}\")\n",
    "        return self\n",
    "    \n",
    "    def fit_sgd(self, X, y):\n",
    "        \"\"\"\n",
    "        Train using Stochastic Gradient Descent.\n",
    "        \"\"\"\n",
    "        m, n = X.shape\n",
    "        num_classes = len(np.unique(y))\n",
    "        self.W = np.zeros((n, num_classes))\n",
    "        y_encoded = one_hot_encode(y, num_classes)\n",
    "        self.loss_history = []\n",
    "        \n",
    "        for epoch in range(self.epochs):\n",
    "            indices = np.arange(m)\n",
    "            np.random.shuffle(indices)\n",
    "            for i in indices:\n",
    "                xi = X[i:i+1]  # shape (1, n)\n",
    "                yi = y_encoded[i:i+1]  # shape (1, num_classes)\n",
    "                logits = np.dot(xi, self.W)\n",
    "                probs = softmax(logits)\n",
    "                grad = np.dot(xi.T, (probs - yi))\n",
    "                self.W -= self.learning_rate * grad\n",
    "            # Compute loss at the end of epoch\n",
    "            logits = np.dot(X, self.W)\n",
    "            probs = softmax(logits)\n",
    "            loss = compute_loss(y_encoded, probs)\n",
    "            self.loss_history.append(loss)\n",
    "            \n",
    "            if self.verbose and epoch % 100 == 0:\n",
    "                print(f\"[SGD] Epoch {epoch}/{self.epochs} - Loss: {loss:.4f}\")\n",
    "        return self\n",
    "    \n",
    "    def predict(self, X):\n",
    "        logits = np.dot(X, self.W)\n",
    "        probs = softmax(logits)\n",
    "        return np.argmax(probs, axis=1)"
   ]
  },
  {
   "cell_type": "markdown",
   "metadata": {},
   "source": [
    " 3,4,5) Train and Evaluate the Model\n",
    "# We now run experiments using both GD and SGD."
   ]
  },
  {
   "cell_type": "markdown",
   "metadata": {},
   "source": [
    "Training with Batch Gradient Descent (GD) on Normalized Data"
   ]
  },
  {
   "cell_type": "code",
   "execution_count": 6,
   "metadata": {},
   "outputs": [
    {
     "name": "stdout",
     "output_type": "stream",
     "text": [
      "[GD] Epoch 0/1000 - Loss: 1.0986\n",
      "[GD] Epoch 100/1000 - Loss: 0.8133\n",
      "[GD] Epoch 200/1000 - Loss: 0.7026\n",
      "[GD] Epoch 300/1000 - Loss: 0.6401\n",
      "[GD] Epoch 400/1000 - Loss: 0.6008\n",
      "[GD] Epoch 500/1000 - Loss: 0.5739\n",
      "[GD] Epoch 600/1000 - Loss: 0.5543\n",
      "[GD] Epoch 700/1000 - Loss: 0.5393\n",
      "[GD] Epoch 800/1000 - Loss: 0.5274\n",
      "[GD] Epoch 900/1000 - Loss: 0.5177\n",
      "\n",
      "[GD] Test Accuracy: 66.67%\n",
      "\n",
      "Classification Report:\n",
      "               precision    recall  f1-score   support\n",
      "\n",
      "           0       1.00      1.00      1.00        20\n",
      "           1       0.00      0.00      0.00        20\n",
      "           2       0.50      1.00      0.67        20\n",
      "\n",
      "    accuracy                           0.67        60\n",
      "   macro avg       0.50      0.67      0.56        60\n",
      "weighted avg       0.50      0.67      0.56        60\n",
      "\n",
      "Confusion Matrix:\n",
      " [[20  0  0]\n",
      " [ 0  0 20]\n",
      " [ 0  0 20]]\n"
     ]
    },
    {
     "name": "stderr",
     "output_type": "stream",
     "text": [
      "/Library/Frameworks/Python.framework/Versions/3.13/lib/python3.13/site-packages/sklearn/metrics/_classification.py:1565: UndefinedMetricWarning: Precision is ill-defined and being set to 0.0 in labels with no predicted samples. Use `zero_division` parameter to control this behavior.\n",
      "  _warn_prf(average, modifier, f\"{metric.capitalize()} is\", len(result))\n",
      "/Library/Frameworks/Python.framework/Versions/3.13/lib/python3.13/site-packages/sklearn/metrics/_classification.py:1565: UndefinedMetricWarning: Precision is ill-defined and being set to 0.0 in labels with no predicted samples. Use `zero_division` parameter to control this behavior.\n",
      "  _warn_prf(average, modifier, f\"{metric.capitalize()} is\", len(result))\n",
      "/Library/Frameworks/Python.framework/Versions/3.13/lib/python3.13/site-packages/sklearn/metrics/_classification.py:1565: UndefinedMetricWarning: Precision is ill-defined and being set to 0.0 in labels with no predicted samples. Use `zero_division` parameter to control this behavior.\n",
      "  _warn_prf(average, modifier, f\"{metric.capitalize()} is\", len(result))\n"
     ]
    }
   ],
   "source": [
    "# Train using Batch Gradient Descent on normalized data\n",
    "model_gd = LogisticRegressionMulti(learning_rate=0.1, epochs=1000, verbose=True)\n",
    "model_gd.fit_gd(X_train_norm, y_train)\n",
    "\n",
    "# Make predictions and evaluate\n",
    "y_pred_gd = model_gd.predict(X_test_norm)\n",
    "accuracy_gd = accuracy_score(y_test, y_pred_gd)\n",
    "print(\"\\n[GD] Test Accuracy: {:.2f}%\".format(accuracy_gd * 100))\n",
    "print(\"\\nClassification Report:\\n\", classification_report(y_test, y_pred_gd))\n",
    "print(\"Confusion Matrix:\\n\", confusion_matrix(y_test, y_pred_gd))"
   ]
  },
  {
   "cell_type": "markdown",
   "metadata": {},
   "source": [
    " Visualize the Loss Curve for GD"
   ]
  },
  {
   "cell_type": "code",
   "execution_count": 7,
   "metadata": {},
   "outputs": [
    {
     "data": {
      "image/png": "[encoded data removed]",
      "text/plain": [
       "<Figure size 800x500 with 1 Axes>"
      ]
     },
     "metadata": {},
     "output_type": "display_data"
    }
   ],
   "source": [
    "plt.figure(figsize=(8, 5))\n",
    "plt.plot(model_gd.loss_history, label=\"GD Loss\")\n",
    "plt.xlabel(\"Epochs\")\n",
    "plt.ylabel(\"Cross-Entropy Loss\")\n",
    "plt.title(\"Training Loss Curve (Gradient Descent)\")\n",
    "plt.legend()\n",
    "plt.grid(True)\n",
    "plt.show()"
   ]
  },
  {
   "cell_type": "markdown",
   "metadata": {},
   "source": [
    " ### Training with Stochastic Gradient Descent (SGD) on Normalized Data"
   ]
  },
  {
   "cell_type": "code",
   "execution_count": 8,
   "metadata": {},
   "outputs": [
    {
     "name": "stdout",
     "output_type": "stream",
     "text": [
      "[SGD] Epoch 0/1000 - Loss: 1.0397\n",
      "[SGD] Epoch 100/1000 - Loss: 0.5169\n",
      "[SGD] Epoch 200/1000 - Loss: 0.4722\n",
      "[SGD] Epoch 300/1000 - Loss: 0.4527\n",
      "[SGD] Epoch 400/1000 - Loss: 0.4408\n",
      "[SGD] Epoch 500/1000 - Loss: 0.4323\n",
      "[SGD] Epoch 600/1000 - Loss: 0.4258\n",
      "[SGD] Epoch 700/1000 - Loss: 0.4205\n",
      "[SGD] Epoch 800/1000 - Loss: 0.4161\n",
      "[SGD] Epoch 900/1000 - Loss: 0.4123\n",
      "\n",
      "[SGD] Test Accuracy: 78.33%\n",
      "\n",
      "Classification Report:\n",
      "               precision    recall  f1-score   support\n",
      "\n",
      "           0       1.00      1.00      1.00        20\n",
      "           1       0.71      0.60      0.65        20\n",
      "           2       0.65      0.75      0.70        20\n",
      "\n",
      "    accuracy                           0.78        60\n",
      "   macro avg       0.79      0.78      0.78        60\n",
      "weighted avg       0.79      0.78      0.78        60\n",
      "\n",
      "Confusion Matrix:\n",
      " [[20  0  0]\n",
      " [ 0 12  8]\n",
      " [ 0  5 15]]\n"
     ]
    }
   ],
   "source": [
    "# Train using Stochastic Gradient Descent on normalized data\n",
    "model_sgd = LogisticRegressionMulti(learning_rate=0.01, epochs=1000, verbose=True)\n",
    "model_sgd.fit_sgd(X_train_norm, y_train)\n",
    "\n",
    "# Make predictions and evaluate\n",
    "y_pred_sgd = model_sgd.predict(X_test_norm)\n",
    "accuracy_sgd = accuracy_score(y_test, y_pred_sgd)\n",
    "print(\"\\n[SGD] Test Accuracy: {:.2f}%\".format(accuracy_sgd * 100))\n",
    "print(\"\\nClassification Report:\\n\", classification_report(y_test, y_pred_sgd))\n",
    "print(\"Confusion Matrix:\\n\", confusion_matrix(y_test, y_pred_sgd))"
   ]
  },
  {
   "cell_type": "markdown",
   "metadata": {},
   "source": [
    " Visualize the Loss Curve for SGD"
   ]
  },
  {
   "cell_type": "code",
   "execution_count": 9,
   "metadata": {},
   "outputs": [
    {
     "data": {
      "image/png": "[encoded data removed]",
      "text/plain": [
       "<Figure size 800x500 with 1 Axes>"
      ]
     },
     "metadata": {},
     "output_type": "display_data"
    }
   ],
   "source": [
    "plt.figure(figsize=(8, 5))\n",
    "plt.plot(model_sgd.loss_history, label=\"SGD Loss\", color='orange')\n",
    "plt.xlabel(\"Epochs\")\n",
    "plt.ylabel(\"Cross-Entropy Loss\")\n",
    "plt.title(\"Training Loss Curve (Stochastic Gradient Descent)\")\n",
    "plt.legend()\n",
    "plt.grid(True)\n",
    "plt.show()"
   ]
  }
 ],
 "metadata": {
  "kernelspec": {
   "display_name": "Python 3 (ipykernel)",
   "language": "python",
   "name": "python3"
  },
  "language_info": {
   "codemirror_mode": {
    "name": "ipython",
    "version": 3
   },
   "file_extension": ".py",
   "mimetype": "text/x-python",
   "name": "python",
   "nbconvert_exporter": "python",
   "pygments_lexer": "ipython3",
   "version": "3.13.2"
  }
 },
 "nbformat": 4,
 "nbformat_minor": 4
}
